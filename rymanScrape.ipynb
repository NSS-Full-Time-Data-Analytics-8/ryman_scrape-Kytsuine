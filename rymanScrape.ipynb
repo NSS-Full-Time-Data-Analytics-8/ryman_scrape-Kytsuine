{
 "cells": [
  {
   "cell_type": "code",
   "execution_count": null,
   "metadata": {},
   "outputs": [],
   "source": [
    "import requests\n",
    "import regex as re\n",
    "import pandas as pd\n",
    "from bs4 import BeautifulSoup as BS"
   ]
  },
  {
   "cell_type": "code",
   "execution_count": null,
   "metadata": {},
   "outputs": [],
   "source": [
    "i = \"{}\".format(1)\n",
    "test = requests.get('https://ryman.com/events/list/?tribe_event_display=list&tribe_paged=' + i)"
   ]
  },
  {
   "cell_type": "code",
   "execution_count": null,
   "metadata": {},
   "outputs": [],
   "source": [
    "type(test)"
   ]
  },
  {
   "cell_type": "code",
   "execution_count": null,
   "metadata": {
    "scrolled": true
   },
   "outputs": [],
   "source": [
    "test.text"
   ]
  },
  {
   "cell_type": "code",
   "execution_count": null,
   "metadata": {},
   "outputs": [],
   "source": [
    "soup = BS(test.text)"
   ]
  },
  {
   "cell_type": "code",
   "execution_count": null,
   "metadata": {
    "scrolled": true
   },
   "outputs": [],
   "source": [
    "print(soup.prettify())"
   ]
  },
  {
   "cell_type": "code",
   "execution_count": null,
   "metadata": {},
   "outputs": [],
   "source": [
    "wordsoup = soup.get_text()"
   ]
  },
  {
   "cell_type": "code",
   "execution_count": null,
   "metadata": {},
   "outputs": [],
   "source": [
    "wordsoup"
   ]
  },
  {
   "cell_type": "code",
   "execution_count": null,
   "metadata": {},
   "outputs": [],
   "source": [
    "headliners = re.findall('(?<=\\\\n\\\\t\\\\t)[a-zA-Z &,’.0-9]+', wordsoup)\n",
    "print(headliners)"
   ]
  },
  {
   "cell_type": "code",
   "execution_count": null,
   "metadata": {},
   "outputs": [],
   "source": [
    "dates = re.findall('(?<=\\\\n)[a-zA-Z]*day, \\w* \\d*, \\d*', wordsoup)\n",
    "print(dates)"
   ]
  },
  {
   "cell_type": "code",
   "execution_count": null,
   "metadata": {},
   "outputs": [],
   "source": [
    "times = re.findall('\\d:\\d\\d \\w\\w \\w{3}', wordsoup)\n",
    "print(times)"
   ]
  },
  {
   "cell_type": "code",
   "execution_count": null,
   "metadata": {},
   "outputs": [],
   "source": [
    "def scrape(page):\n",
    "    string = \"{}\".format(page)\n",
    "    response = requests.get('https://ryman.com/events/list/?tribe_event_display=list&tribe_paged='+string)\n",
    "    soup = BS(response.text)\n",
    "    wordsoup = soup.get_text()\n",
    "    headliners = re.findall('(?<=\\\\n\\\\t\\\\t)[a-zA-Z &,’.0-9]+', wordsoup)\n",
    "    dates = re.findall('(?<=\\\\n)[a-zA-Z]*day, \\w* \\d*, \\d*', wordsoup)\n",
    "    times = re.findall('\\d{1,2}:\\d\\d.{7}', wordsoup)\n",
    "    zipped = list(zip(headliners, dates, times))\n",
    "    df = pd.DataFrame(zipped, columns=['Headliners', 'Date', 'Time'])\n",
    "    return df"
   ]
  },
  {
   "cell_type": "code",
   "execution_count": null,
   "metadata": {},
   "outputs": [],
   "source": [
    "def RymanScraper(pages):\n",
    "    scraped_df = pd.DataFrame()\n",
    "    for i in range(1, pages):\n",
    "        scraped_df = pd.concat([scraped_df, scrape(i)]);\n",
    "    scraped_df = scraped_df.reset_index(drop=True)\n",
    "    return scraped_df"
   ]
  },
  {
   "cell_type": "code",
   "execution_count": null,
   "metadata": {},
   "outputs": [],
   "source": [
    "RymanScraper(7)"
   ]
  },
  {
   "cell_type": "code",
   "execution_count": null,
   "metadata": {},
   "outputs": [],
   "source": []
  }
 ],
 "metadata": {
  "kernelspec": {
   "display_name": "Python 3 (ipykernel)",
   "language": "python",
   "name": "python3"
  },
  "language_info": {
   "codemirror_mode": {
    "name": "ipython",
    "version": 3
   },
   "file_extension": ".py",
   "mimetype": "text/x-python",
   "name": "python",
   "nbconvert_exporter": "python",
   "pygments_lexer": "ipython3",
   "version": "3.9.12"
  }
 },
 "nbformat": 4,
 "nbformat_minor": 2
}
